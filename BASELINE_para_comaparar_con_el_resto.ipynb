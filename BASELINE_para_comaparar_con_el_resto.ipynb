{
  "nbformat": 4,
  "nbformat_minor": 0,
  "metadata": {
    "accelerator": "TPU",
    "colab": {
      "name": "BASELINE_para_comaparar_con_el_resto_German_Credit_DataColabIC__PRUEBA2_09_10_21.ipynb",
      "provenance": [],
      "collapsed_sections": []
    },
    "kernelspec": {
      "display_name": "Python 3",
      "language": "python",
      "name": "python3"
    },
    "language_info": {
      "codemirror_mode": {
        "name": "ipython",
        "version": 3
      },
      "file_extension": ".py",
      "mimetype": "text/x-python",
      "name": "python",
      "nbconvert_exporter": "python",
      "pygments_lexer": "ipython3",
      "version": "3.7.6"
    }
  },
  "cells": [
    {
      "cell_type": "markdown",
      "metadata": {
        "id": "kAFRS_wsR4Zh"
      },
      "source": [
        "\n",
        "**Aplicación del modelo Baseline**"
      ]
    },
    {
      "cell_type": "markdown",
      "metadata": {
        "id": "BA3UJvXmSI4j"
      },
      "source": [
        "Estos modelos servirán de referencia para comparar los modelos sin aplicar sampling, con los modelos luego de aplicar las técnicas de sampling para datos desequilibrados"
      ]
    },
    {
      "cell_type": "code",
      "metadata": {
        "id": "naTwheVx7ZCi",
        "colab": {
          "base_uri": "https://localhost:8080/"
        },
        "outputId": "f5288ceb-fb5c-4ac8-8b1a-627caa697ffd"
      },
      "source": [
        "from google.colab import drive\n",
        "drive.mount('/content/drive')\n"
      ],
      "execution_count": null,
      "outputs": [
        {
          "output_type": "stream",
          "name": "stdout",
          "text": [
            "Drive already mounted at /content/drive; to attempt to forcibly remount, call drive.mount(\"/content/drive\", force_remount=True).\n"
          ]
        }
      ]
    },
    {
      "cell_type": "code",
      "metadata": {
        "id": "hyCI-cdMSjXa"
      },
      "source": [
        "# 1. Libraries Implemented"
      ],
      "execution_count": null,
      "outputs": []
    },
    {
      "cell_type": "code",
      "metadata": {
        "id": "4T_V87W3uz-a"
      },
      "source": [
        "## Classification Algorithms\n",
        "\n",
        "from sklearn.linear_model import LogisticRegression, SGDClassifier\n",
        "from sklearn.tree import DecisionTreeClassifier\n",
        "from sklearn.neighbors import KNeighborsClassifier\n",
        "from sklearn.ensemble import RandomForestClassifier, AdaBoostClassifier, GradientBoostingClassifier\n",
        "from sklearn.svm import SVC\n",
        "from sklearn.metrics import confusion_matrix,classification_report,f1_score,recall_score,precision_score,accuracy_score,precision_recall_curve,roc_curve,roc_auc_score\n",
        "import matplotlib.gridspec as gridspec\n",
        "\n",
        "from sklearn.preprocessing import LabelEncoder, StandardScaler, OneHotEncoder\n",
        "\n",
        "import pandas as pd\n",
        "import numpy as np\n",
        "\n",
        "# importing ploting libraries\n",
        "import matplotlib.pyplot as plt   \n",
        "# To enable plotting graphs in Jupyter notebook\n",
        "%matplotlib inline\n",
        "#importing seaborn for statistical plots\n",
        "import seaborn as sns\n",
        "\n",
        "\n",
        "# Libraries for constructing Pipelines\n",
        "from sklearn.pipeline import Pipeline, make_pipeline\n",
        "\n",
        "from sklearn.model_selection import train_test_split, GridSearchCV, KFold, cross_val_score\n",
        "\n",
        "# Library for Normalization of Numerical Data\n",
        "from scipy.stats import zscore\n",
        "\n",
        "# calculate accuracy measures and confusion matrix\n",
        "from sklearn import metrics\n",
        "from sklearn.metrics import confusion_matrix\n",
        "\n",
        "# Suppress warnings\n",
        "import warnings\n",
        "warnings.filterwarnings(\"ignore\")"
      ],
      "execution_count": null,
      "outputs": []
    },
    {
      "cell_type": "code",
      "metadata": {
        "id": "ziDwpv_cuz-f"
      },
      "source": [
        "## 2.2 Data Loading"
      ],
      "execution_count": null,
      "outputs": []
    },
    {
      "cell_type": "code",
      "metadata": {
        "id": "qgW0-Kgiuz-h"
      },
      "source": [
        "credit = pd.read_csv(\"/content/drive/MyDrive/german_credit_data.csv\")"
      ],
      "execution_count": null,
      "outputs": []
    },
    {
      "cell_type": "code",
      "metadata": {
        "colab": {
          "base_uri": "https://localhost:8080/",
          "height": 206
        },
        "id": "2DOEl65Quz-h",
        "outputId": "e189e1fe-c2a3-40b4-8f60-0aa0a0392b17"
      },
      "source": [
        "credit.head()   "
      ],
      "execution_count": null,
      "outputs": [
        {
          "output_type": "execute_result",
          "data": {
            "text/html": [
              "<div>\n",
              "<style scoped>\n",
              "    .dataframe tbody tr th:only-of-type {\n",
              "        vertical-align: middle;\n",
              "    }\n",
              "\n",
              "    .dataframe tbody tr th {\n",
              "        vertical-align: top;\n",
              "    }\n",
              "\n",
              "    .dataframe thead th {\n",
              "        text-align: right;\n",
              "    }\n",
              "</style>\n",
              "<table border=\"1\" class=\"dataframe\">\n",
              "  <thead>\n",
              "    <tr style=\"text-align: right;\">\n",
              "      <th></th>\n",
              "      <th>Unnamed: 0</th>\n",
              "      <th>Age</th>\n",
              "      <th>Sex</th>\n",
              "      <th>Job</th>\n",
              "      <th>Housing</th>\n",
              "      <th>Saving accounts</th>\n",
              "      <th>Checking account</th>\n",
              "      <th>Credit amount</th>\n",
              "      <th>Duration</th>\n",
              "      <th>Purpose</th>\n",
              "      <th>Risk</th>\n",
              "    </tr>\n",
              "  </thead>\n",
              "  <tbody>\n",
              "    <tr>\n",
              "      <th>0</th>\n",
              "      <td>0</td>\n",
              "      <td>67</td>\n",
              "      <td>male</td>\n",
              "      <td>2</td>\n",
              "      <td>own</td>\n",
              "      <td>NaN</td>\n",
              "      <td>little</td>\n",
              "      <td>1169</td>\n",
              "      <td>6</td>\n",
              "      <td>radio/TV</td>\n",
              "      <td>good</td>\n",
              "    </tr>\n",
              "    <tr>\n",
              "      <th>1</th>\n",
              "      <td>1</td>\n",
              "      <td>22</td>\n",
              "      <td>female</td>\n",
              "      <td>2</td>\n",
              "      <td>own</td>\n",
              "      <td>little</td>\n",
              "      <td>moderate</td>\n",
              "      <td>5951</td>\n",
              "      <td>48</td>\n",
              "      <td>radio/TV</td>\n",
              "      <td>bad</td>\n",
              "    </tr>\n",
              "    <tr>\n",
              "      <th>2</th>\n",
              "      <td>2</td>\n",
              "      <td>49</td>\n",
              "      <td>male</td>\n",
              "      <td>1</td>\n",
              "      <td>own</td>\n",
              "      <td>little</td>\n",
              "      <td>NaN</td>\n",
              "      <td>2096</td>\n",
              "      <td>12</td>\n",
              "      <td>education</td>\n",
              "      <td>good</td>\n",
              "    </tr>\n",
              "    <tr>\n",
              "      <th>3</th>\n",
              "      <td>3</td>\n",
              "      <td>45</td>\n",
              "      <td>male</td>\n",
              "      <td>2</td>\n",
              "      <td>free</td>\n",
              "      <td>little</td>\n",
              "      <td>little</td>\n",
              "      <td>7882</td>\n",
              "      <td>42</td>\n",
              "      <td>furniture/equipment</td>\n",
              "      <td>good</td>\n",
              "    </tr>\n",
              "    <tr>\n",
              "      <th>4</th>\n",
              "      <td>4</td>\n",
              "      <td>53</td>\n",
              "      <td>male</td>\n",
              "      <td>2</td>\n",
              "      <td>free</td>\n",
              "      <td>little</td>\n",
              "      <td>little</td>\n",
              "      <td>4870</td>\n",
              "      <td>24</td>\n",
              "      <td>car</td>\n",
              "      <td>bad</td>\n",
              "    </tr>\n",
              "  </tbody>\n",
              "</table>\n",
              "</div>"
            ],
            "text/plain": [
              "   Unnamed: 0  Age     Sex  ...  Duration              Purpose  Risk\n",
              "0           0   67    male  ...         6             radio/TV  good\n",
              "1           1   22  female  ...        48             radio/TV   bad\n",
              "2           2   49    male  ...        12            education  good\n",
              "3           3   45    male  ...        42  furniture/equipment  good\n",
              "4           4   53    male  ...        24                  car   bad\n",
              "\n",
              "[5 rows x 11 columns]"
            ]
          },
          "metadata": {},
          "execution_count": 12
        }
      ]
    },
    {
      "cell_type": "code",
      "metadata": {
        "id": "YACpCqt38A-2"
      },
      "source": [
        "credit.drop('Unnamed: 0', axis=1, inplace=True) # Eliminando columna Unnamed del dataframe"
      ],
      "execution_count": null,
      "outputs": []
    },
    {
      "cell_type": "code",
      "metadata": {
        "colab": {
          "base_uri": "https://localhost:8080/"
        },
        "id": "a5QUH7Hjuz_S",
        "outputId": "a41fd354-d022-4396-eb3f-6988f15cb833"
      },
      "source": [
        "credit.info()"
      ],
      "execution_count": null,
      "outputs": [
        {
          "output_type": "stream",
          "name": "stdout",
          "text": [
            "<class 'pandas.core.frame.DataFrame'>\n",
            "RangeIndex: 1000 entries, 0 to 999\n",
            "Data columns (total 10 columns):\n",
            " #   Column            Non-Null Count  Dtype \n",
            "---  ------            --------------  ----- \n",
            " 0   Age               1000 non-null   int64 \n",
            " 1   Sex               1000 non-null   object\n",
            " 2   Job               1000 non-null   int64 \n",
            " 3   Housing           1000 non-null   object\n",
            " 4   Saving accounts   817 non-null    object\n",
            " 5   Checking account  606 non-null    object\n",
            " 6   Credit amount     1000 non-null   int64 \n",
            " 7   Duration          1000 non-null   int64 \n",
            " 8   Purpose           1000 non-null   object\n",
            " 9   Risk              1000 non-null   object\n",
            "dtypes: int64(4), object(6)\n",
            "memory usage: 78.2+ KB\n"
          ]
        }
      ]
    },
    {
      "cell_type": "code",
      "metadata": {
        "colab": {
          "base_uri": "https://localhost:8080/",
          "height": 206
        },
        "id": "2t9LfgsHuz_U",
        "scrolled": true,
        "outputId": "6088ae6e-1369-4eae-9f4c-5ded950b1192"
      },
      "source": [
        "credit.head()"
      ],
      "execution_count": null,
      "outputs": [
        {
          "output_type": "execute_result",
          "data": {
            "text/html": [
              "<div>\n",
              "<style scoped>\n",
              "    .dataframe tbody tr th:only-of-type {\n",
              "        vertical-align: middle;\n",
              "    }\n",
              "\n",
              "    .dataframe tbody tr th {\n",
              "        vertical-align: top;\n",
              "    }\n",
              "\n",
              "    .dataframe thead th {\n",
              "        text-align: right;\n",
              "    }\n",
              "</style>\n",
              "<table border=\"1\" class=\"dataframe\">\n",
              "  <thead>\n",
              "    <tr style=\"text-align: right;\">\n",
              "      <th></th>\n",
              "      <th>Age</th>\n",
              "      <th>Sex</th>\n",
              "      <th>Job</th>\n",
              "      <th>Housing</th>\n",
              "      <th>Saving accounts</th>\n",
              "      <th>Checking account</th>\n",
              "      <th>Credit amount</th>\n",
              "      <th>Duration</th>\n",
              "      <th>Purpose</th>\n",
              "      <th>Risk</th>\n",
              "    </tr>\n",
              "  </thead>\n",
              "  <tbody>\n",
              "    <tr>\n",
              "      <th>0</th>\n",
              "      <td>67</td>\n",
              "      <td>male</td>\n",
              "      <td>2</td>\n",
              "      <td>own</td>\n",
              "      <td>NaN</td>\n",
              "      <td>little</td>\n",
              "      <td>1169</td>\n",
              "      <td>6</td>\n",
              "      <td>radio/TV</td>\n",
              "      <td>good</td>\n",
              "    </tr>\n",
              "    <tr>\n",
              "      <th>1</th>\n",
              "      <td>22</td>\n",
              "      <td>female</td>\n",
              "      <td>2</td>\n",
              "      <td>own</td>\n",
              "      <td>little</td>\n",
              "      <td>moderate</td>\n",
              "      <td>5951</td>\n",
              "      <td>48</td>\n",
              "      <td>radio/TV</td>\n",
              "      <td>bad</td>\n",
              "    </tr>\n",
              "    <tr>\n",
              "      <th>2</th>\n",
              "      <td>49</td>\n",
              "      <td>male</td>\n",
              "      <td>1</td>\n",
              "      <td>own</td>\n",
              "      <td>little</td>\n",
              "      <td>NaN</td>\n",
              "      <td>2096</td>\n",
              "      <td>12</td>\n",
              "      <td>education</td>\n",
              "      <td>good</td>\n",
              "    </tr>\n",
              "    <tr>\n",
              "      <th>3</th>\n",
              "      <td>45</td>\n",
              "      <td>male</td>\n",
              "      <td>2</td>\n",
              "      <td>free</td>\n",
              "      <td>little</td>\n",
              "      <td>little</td>\n",
              "      <td>7882</td>\n",
              "      <td>42</td>\n",
              "      <td>furniture/equipment</td>\n",
              "      <td>good</td>\n",
              "    </tr>\n",
              "    <tr>\n",
              "      <th>4</th>\n",
              "      <td>53</td>\n",
              "      <td>male</td>\n",
              "      <td>2</td>\n",
              "      <td>free</td>\n",
              "      <td>little</td>\n",
              "      <td>little</td>\n",
              "      <td>4870</td>\n",
              "      <td>24</td>\n",
              "      <td>car</td>\n",
              "      <td>bad</td>\n",
              "    </tr>\n",
              "  </tbody>\n",
              "</table>\n",
              "</div>"
            ],
            "text/plain": [
              "   Age     Sex  Job Housing  ... Credit amount Duration              Purpose  Risk\n",
              "0   67    male    2     own  ...          1169        6             radio/TV  good\n",
              "1   22  female    2     own  ...          5951       48             radio/TV   bad\n",
              "2   49    male    1     own  ...          2096       12            education  good\n",
              "3   45    male    2    free  ...          7882       42  furniture/equipment  good\n",
              "4   53    male    2    free  ...          4870       24                  car   bad\n",
              "\n",
              "[5 rows x 10 columns]"
            ]
          },
          "metadata": {},
          "execution_count": 17
        }
      ]
    },
    {
      "cell_type": "code",
      "metadata": {
        "colab": {
          "base_uri": "https://localhost:8080/"
        },
        "id": "tnPV-8lP8EA2",
        "outputId": "7e37a300-01e0-4aff-927b-85ad0e0b0894"
      },
      "source": [
        "credit[\"Default\"] = credit[\"Risk\"] # Creando la variable Default  (asignación de Risk a Default)\n",
        "credit.info() # Validando que la variable Default se creo\n",
        "# print(data.rename(columns={'Index': 'newname'})) renombrar columnas con pandas"
      ],
      "execution_count": null,
      "outputs": [
        {
          "output_type": "stream",
          "name": "stdout",
          "text": [
            "<class 'pandas.core.frame.DataFrame'>\n",
            "RangeIndex: 1000 entries, 0 to 999\n",
            "Data columns (total 11 columns):\n",
            " #   Column            Non-Null Count  Dtype \n",
            "---  ------            --------------  ----- \n",
            " 0   Age               1000 non-null   int64 \n",
            " 1   Sex               1000 non-null   object\n",
            " 2   Job               1000 non-null   int64 \n",
            " 3   Housing           1000 non-null   object\n",
            " 4   Saving accounts   817 non-null    object\n",
            " 5   Checking account  606 non-null    object\n",
            " 6   Credit amount     1000 non-null   int64 \n",
            " 7   Duration          1000 non-null   int64 \n",
            " 8   Purpose           1000 non-null   object\n",
            " 9   Risk              1000 non-null   object\n",
            " 10  Default           1000 non-null   object\n",
            "dtypes: int64(4), object(7)\n",
            "memory usage: 86.1+ KB\n"
          ]
        }
      ]
    },
    {
      "cell_type": "code",
      "metadata": {
        "id": "yN-Rl483-r8L"
      },
      "source": [
        "credit = credit.drop(columns=\"Risk\")"
      ],
      "execution_count": null,
      "outputs": []
    },
    {
      "cell_type": "code",
      "metadata": {
        "colab": {
          "base_uri": "https://localhost:8080/"
        },
        "id": "xhC1Oaah8MDw",
        "outputId": "344f3344-5986-4e80-9877-66d9167b3c2f"
      },
      "source": [
        "#credit.drop([ 'Risk'], axis=1) # Eliminando la varible Risk\n",
        "credit.info # Validando que la variable Risk  se elimino"
      ],
      "execution_count": null,
      "outputs": [
        {
          "output_type": "execute_result",
          "data": {
            "text/plain": [
              "<bound method DataFrame.info of      Age     Sex  Job  ... Duration              Purpose Default\n",
              "0     67    male    2  ...        6             radio/TV    good\n",
              "1     22  female    2  ...       48             radio/TV     bad\n",
              "2     49    male    1  ...       12            education    good\n",
              "3     45    male    2  ...       42  furniture/equipment    good\n",
              "4     53    male    2  ...       24                  car     bad\n",
              "..   ...     ...  ...  ...      ...                  ...     ...\n",
              "995   31  female    1  ...       12  furniture/equipment    good\n",
              "996   40    male    3  ...       30                  car    good\n",
              "997   38    male    2  ...       12             radio/TV    good\n",
              "998   23    male    2  ...       45             radio/TV     bad\n",
              "999   27    male    2  ...       45                  car    good\n",
              "\n",
              "[1000 rows x 10 columns]>"
            ]
          },
          "metadata": {},
          "execution_count": 20
        }
      ]
    },
    {
      "cell_type": "code",
      "metadata": {
        "colab": {
          "base_uri": "https://localhost:8080/",
          "height": 206
        },
        "id": "Hzp4r_Q48gq6",
        "outputId": "e4b1b978-feca-41ea-fa77-d56045a74345"
      },
      "source": [
        "credit.head()  "
      ],
      "execution_count": null,
      "outputs": [
        {
          "output_type": "execute_result",
          "data": {
            "text/html": [
              "<div>\n",
              "<style scoped>\n",
              "    .dataframe tbody tr th:only-of-type {\n",
              "        vertical-align: middle;\n",
              "    }\n",
              "\n",
              "    .dataframe tbody tr th {\n",
              "        vertical-align: top;\n",
              "    }\n",
              "\n",
              "    .dataframe thead th {\n",
              "        text-align: right;\n",
              "    }\n",
              "</style>\n",
              "<table border=\"1\" class=\"dataframe\">\n",
              "  <thead>\n",
              "    <tr style=\"text-align: right;\">\n",
              "      <th></th>\n",
              "      <th>Age</th>\n",
              "      <th>Sex</th>\n",
              "      <th>Job</th>\n",
              "      <th>Housing</th>\n",
              "      <th>Saving accounts</th>\n",
              "      <th>Checking account</th>\n",
              "      <th>Credit amount</th>\n",
              "      <th>Duration</th>\n",
              "      <th>Purpose</th>\n",
              "      <th>Default</th>\n",
              "    </tr>\n",
              "  </thead>\n",
              "  <tbody>\n",
              "    <tr>\n",
              "      <th>0</th>\n",
              "      <td>67</td>\n",
              "      <td>male</td>\n",
              "      <td>2</td>\n",
              "      <td>own</td>\n",
              "      <td>NaN</td>\n",
              "      <td>little</td>\n",
              "      <td>1169</td>\n",
              "      <td>6</td>\n",
              "      <td>radio/TV</td>\n",
              "      <td>good</td>\n",
              "    </tr>\n",
              "    <tr>\n",
              "      <th>1</th>\n",
              "      <td>22</td>\n",
              "      <td>female</td>\n",
              "      <td>2</td>\n",
              "      <td>own</td>\n",
              "      <td>little</td>\n",
              "      <td>moderate</td>\n",
              "      <td>5951</td>\n",
              "      <td>48</td>\n",
              "      <td>radio/TV</td>\n",
              "      <td>bad</td>\n",
              "    </tr>\n",
              "    <tr>\n",
              "      <th>2</th>\n",
              "      <td>49</td>\n",
              "      <td>male</td>\n",
              "      <td>1</td>\n",
              "      <td>own</td>\n",
              "      <td>little</td>\n",
              "      <td>NaN</td>\n",
              "      <td>2096</td>\n",
              "      <td>12</td>\n",
              "      <td>education</td>\n",
              "      <td>good</td>\n",
              "    </tr>\n",
              "    <tr>\n",
              "      <th>3</th>\n",
              "      <td>45</td>\n",
              "      <td>male</td>\n",
              "      <td>2</td>\n",
              "      <td>free</td>\n",
              "      <td>little</td>\n",
              "      <td>little</td>\n",
              "      <td>7882</td>\n",
              "      <td>42</td>\n",
              "      <td>furniture/equipment</td>\n",
              "      <td>good</td>\n",
              "    </tr>\n",
              "    <tr>\n",
              "      <th>4</th>\n",
              "      <td>53</td>\n",
              "      <td>male</td>\n",
              "      <td>2</td>\n",
              "      <td>free</td>\n",
              "      <td>little</td>\n",
              "      <td>little</td>\n",
              "      <td>4870</td>\n",
              "      <td>24</td>\n",
              "      <td>car</td>\n",
              "      <td>bad</td>\n",
              "    </tr>\n",
              "  </tbody>\n",
              "</table>\n",
              "</div>"
            ],
            "text/plain": [
              "   Age     Sex  Job  ... Duration              Purpose Default\n",
              "0   67    male    2  ...        6             radio/TV    good\n",
              "1   22  female    2  ...       48             radio/TV     bad\n",
              "2   49    male    1  ...       12            education    good\n",
              "3   45    male    2  ...       42  furniture/equipment    good\n",
              "4   53    male    2  ...       24                  car     bad\n",
              "\n",
              "[5 rows x 10 columns]"
            ]
          },
          "metadata": {},
          "execution_count": 21
        }
      ]
    },
    {
      "cell_type": "code",
      "metadata": {
        "colab": {
          "base_uri": "https://localhost:8080/"
        },
        "id": "znvHS8Ynuz_W",
        "outputId": "ac0e97da-f46b-465f-9b57-98aecc6eee8e"
      },
      "source": [
        "credit['Default'].value_counts()"
      ],
      "execution_count": null,
      "outputs": [
        {
          "output_type": "execute_result",
          "data": {
            "text/plain": [
              "good    700\n",
              "bad     300\n",
              "Name: Default, dtype: int64"
            ]
          },
          "metadata": {},
          "execution_count": 22
        }
      ]
    },
    {
      "cell_type": "code",
      "metadata": {
        "colab": {
          "base_uri": "https://localhost:8080/"
        },
        "id": "IDBtgAv-uz_W",
        "scrolled": false,
        "outputId": "d5abfae3-88eb-4c0e-d7a0-1d4462e1cf31"
      },
      "source": [
        "credit.info()"
      ],
      "execution_count": null,
      "outputs": [
        {
          "output_type": "stream",
          "name": "stdout",
          "text": [
            "<class 'pandas.core.frame.DataFrame'>\n",
            "RangeIndex: 1000 entries, 0 to 999\n",
            "Data columns (total 10 columns):\n",
            " #   Column            Non-Null Count  Dtype \n",
            "---  ------            --------------  ----- \n",
            " 0   Age               1000 non-null   int64 \n",
            " 1   Sex               1000 non-null   object\n",
            " 2   Job               1000 non-null   int64 \n",
            " 3   Housing           1000 non-null   object\n",
            " 4   Saving accounts   817 non-null    object\n",
            " 5   Checking account  606 non-null    object\n",
            " 6   Credit amount     1000 non-null   int64 \n",
            " 7   Duration          1000 non-null   int64 \n",
            " 8   Purpose           1000 non-null   object\n",
            " 9   Default           1000 non-null   object\n",
            "dtypes: int64(4), object(6)\n",
            "memory usage: 78.2+ KB\n"
          ]
        }
      ]
    },
    {
      "cell_type": "markdown",
      "metadata": {
        "id": "u8xoirQLuz_Y"
      },
      "source": [
        "Removiendo  NAN's"
      ]
    },
    {
      "cell_type": "code",
      "metadata": {
        "colab": {
          "base_uri": "https://localhost:8080/"
        },
        "id": "xuch0Xvruz_Y",
        "outputId": "9887ca4c-43ab-432c-ea7f-1726314bf719"
      },
      "source": [
        "credit.isnull().sum()"
      ],
      "execution_count": null,
      "outputs": [
        {
          "output_type": "execute_result",
          "data": {
            "text/plain": [
              "Age                   0\n",
              "Sex                   0\n",
              "Job                   0\n",
              "Housing               0\n",
              "Saving accounts     183\n",
              "Checking account    394\n",
              "Credit amount         0\n",
              "Duration              0\n",
              "Purpose               0\n",
              "Default               0\n",
              "dtype: int64"
            ]
          },
          "metadata": {},
          "execution_count": 24
        }
      ]
    },
    {
      "cell_type": "code",
      "metadata": {
        "id": "1XCk99vfuz_Z"
      },
      "source": [
        "# Removing NaN's from 'Saving accounts' and 'Checking account' column"
      ],
      "execution_count": null,
      "outputs": []
    },
    {
      "cell_type": "code",
      "metadata": {
        "id": "FCFPj4gjuz_Z"
      },
      "source": [
        "credit['Saving accounts'] = credit['Saving accounts'].fillna(value = 'NA') # Rellenando con NA"
      ],
      "execution_count": null,
      "outputs": []
    },
    {
      "cell_type": "code",
      "metadata": {
        "colab": {
          "base_uri": "https://localhost:8080/"
        },
        "id": "YnEluCpsuz_a",
        "outputId": "107efeb8-05f5-44a0-de96-1e0ea344d924"
      },
      "source": [
        "print(credit['Saving accounts'].value_counts())  # frecuencia de las categorias de Saving accounts\n",
        "\n",
        "#Construye la distribución de frecuencias de la variable Saving accounts, con los NA"
      ],
      "execution_count": null,
      "outputs": [
        {
          "output_type": "stream",
          "name": "stdout",
          "text": [
            "little        603\n",
            "NA            183\n",
            "moderate      103\n",
            "quite rich     63\n",
            "rich           48\n",
            "Name: Saving accounts, dtype: int64\n"
          ]
        }
      ]
    },
    {
      "cell_type": "code",
      "metadata": {
        "id": "RhscVTgnuz_4"
      },
      "source": [
        "credit['Checking account'] = credit['Checking account'].fillna(value = 'NA') # Rellenando con NA, NaN"
      ],
      "execution_count": null,
      "outputs": []
    },
    {
      "cell_type": "code",
      "metadata": {
        "colab": {
          "base_uri": "https://localhost:8080/"
        },
        "id": "4tussjcXuz_4",
        "scrolled": true,
        "outputId": "ed0d31ed-ce2c-4c4e-c8b7-d8604950e5bf"
      },
      "source": [
        "credit['Checking account'].value_counts() # Distribución de frecuencias"
      ],
      "execution_count": null,
      "outputs": [
        {
          "output_type": "execute_result",
          "data": {
            "text/plain": [
              "NA          394\n",
              "little      274\n",
              "moderate    269\n",
              "rich         63\n",
              "Name: Checking account, dtype: int64"
            ]
          },
          "metadata": {},
          "execution_count": 29
        }
      ]
    },
    {
      "cell_type": "code",
      "metadata": {
        "colab": {
          "base_uri": "https://localhost:8080/"
        },
        "id": "e7cz948juz_6",
        "outputId": "dbe92adc-bf90-41a0-ccaf-ff9c9a4ccbfa"
      },
      "source": [
        "credit.isnull().sum()  # Comprobando que elimino los NA"
      ],
      "execution_count": null,
      "outputs": [
        {
          "output_type": "execute_result",
          "data": {
            "text/plain": [
              "Age                 0\n",
              "Sex                 0\n",
              "Job                 0\n",
              "Housing             0\n",
              "Saving accounts     0\n",
              "Checking account    0\n",
              "Credit amount       0\n",
              "Duration            0\n",
              "Purpose             0\n",
              "Default             0\n",
              "dtype: int64"
            ]
          },
          "metadata": {},
          "execution_count": 30
        }
      ]
    },
    {
      "cell_type": "code",
      "metadata": {
        "colab": {
          "base_uri": "https://localhost:8080/",
          "height": 206
        },
        "id": "WiVfoOiBuz_6",
        "outputId": "bbe631a0-3677-48ea-8158-3e3af6fe9c04"
      },
      "source": [
        "credit.head()  "
      ],
      "execution_count": null,
      "outputs": [
        {
          "output_type": "execute_result",
          "data": {
            "text/html": [
              "<div>\n",
              "<style scoped>\n",
              "    .dataframe tbody tr th:only-of-type {\n",
              "        vertical-align: middle;\n",
              "    }\n",
              "\n",
              "    .dataframe tbody tr th {\n",
              "        vertical-align: top;\n",
              "    }\n",
              "\n",
              "    .dataframe thead th {\n",
              "        text-align: right;\n",
              "    }\n",
              "</style>\n",
              "<table border=\"1\" class=\"dataframe\">\n",
              "  <thead>\n",
              "    <tr style=\"text-align: right;\">\n",
              "      <th></th>\n",
              "      <th>Age</th>\n",
              "      <th>Sex</th>\n",
              "      <th>Job</th>\n",
              "      <th>Housing</th>\n",
              "      <th>Saving accounts</th>\n",
              "      <th>Checking account</th>\n",
              "      <th>Credit amount</th>\n",
              "      <th>Duration</th>\n",
              "      <th>Purpose</th>\n",
              "      <th>Default</th>\n",
              "    </tr>\n",
              "  </thead>\n",
              "  <tbody>\n",
              "    <tr>\n",
              "      <th>0</th>\n",
              "      <td>67</td>\n",
              "      <td>male</td>\n",
              "      <td>2</td>\n",
              "      <td>own</td>\n",
              "      <td>NA</td>\n",
              "      <td>little</td>\n",
              "      <td>1169</td>\n",
              "      <td>6</td>\n",
              "      <td>radio/TV</td>\n",
              "      <td>good</td>\n",
              "    </tr>\n",
              "    <tr>\n",
              "      <th>1</th>\n",
              "      <td>22</td>\n",
              "      <td>female</td>\n",
              "      <td>2</td>\n",
              "      <td>own</td>\n",
              "      <td>little</td>\n",
              "      <td>moderate</td>\n",
              "      <td>5951</td>\n",
              "      <td>48</td>\n",
              "      <td>radio/TV</td>\n",
              "      <td>bad</td>\n",
              "    </tr>\n",
              "    <tr>\n",
              "      <th>2</th>\n",
              "      <td>49</td>\n",
              "      <td>male</td>\n",
              "      <td>1</td>\n",
              "      <td>own</td>\n",
              "      <td>little</td>\n",
              "      <td>NA</td>\n",
              "      <td>2096</td>\n",
              "      <td>12</td>\n",
              "      <td>education</td>\n",
              "      <td>good</td>\n",
              "    </tr>\n",
              "    <tr>\n",
              "      <th>3</th>\n",
              "      <td>45</td>\n",
              "      <td>male</td>\n",
              "      <td>2</td>\n",
              "      <td>free</td>\n",
              "      <td>little</td>\n",
              "      <td>little</td>\n",
              "      <td>7882</td>\n",
              "      <td>42</td>\n",
              "      <td>furniture/equipment</td>\n",
              "      <td>good</td>\n",
              "    </tr>\n",
              "    <tr>\n",
              "      <th>4</th>\n",
              "      <td>53</td>\n",
              "      <td>male</td>\n",
              "      <td>2</td>\n",
              "      <td>free</td>\n",
              "      <td>little</td>\n",
              "      <td>little</td>\n",
              "      <td>4870</td>\n",
              "      <td>24</td>\n",
              "      <td>car</td>\n",
              "      <td>bad</td>\n",
              "    </tr>\n",
              "  </tbody>\n",
              "</table>\n",
              "</div>"
            ],
            "text/plain": [
              "   Age     Sex  Job  ... Duration              Purpose Default\n",
              "0   67    male    2  ...        6             radio/TV    good\n",
              "1   22  female    2  ...       48             radio/TV     bad\n",
              "2   49    male    1  ...       12            education    good\n",
              "3   45    male    2  ...       42  furniture/equipment    good\n",
              "4   53    male    2  ...       24                  car     bad\n",
              "\n",
              "[5 rows x 10 columns]"
            ]
          },
          "metadata": {},
          "execution_count": 31
        }
      ]
    },
    {
      "cell_type": "markdown",
      "metadata": {
        "id": "Si4xlLS6uz_7"
      },
      "source": [
        "**Análisis Exploratorio de Datos**"
      ]
    },
    {
      "cell_type": "code",
      "metadata": {
        "id": "0_NkTjeyuz_8"
      },
      "source": [
        "#Plot de  Conteo de target según sexo"
      ],
      "execution_count": null,
      "outputs": []
    },
    {
      "cell_type": "code",
      "metadata": {
        "colab": {
          "base_uri": "https://localhost:8080/",
          "height": 296
        },
        "id": "n3FFIBs8uz_8",
        "scrolled": true,
        "outputId": "277c7274-2c76-4831-b20c-ed249bbc142a"
      },
      "source": [
        "sns.countplot(x= 'Sex', data = credit, hue= 'Default') # A python le importan las mayusculas"
      ],
      "execution_count": null,
      "outputs": [
        {
          "output_type": "execute_result",
          "data": {
            "text/plain": [
              "<matplotlib.axes._subplots.AxesSubplot at 0x7f4b9fe67290>"
            ]
          },
          "metadata": {},
          "execution_count": 33
        },
        {
          "output_type": "display_data",
          "data": {
            "image/png": "[encoded data removed]",
            "text/plain": [
              "<Figure size 432x288 with 1 Axes>"
            ]
          },
          "metadata": {
            "needs_background": "light"
          }
        }
      ]
    },
    {
      "cell_type": "code",
      "metadata": {
        "colab": {
          "base_uri": "https://localhost:8080/",
          "height": 296
        },
        "id": "zfldnQcSuz_9",
        "outputId": "a11a2e88-4e75-4d63-c2b2-2e7358a42974"
      },
      "source": [
        "sns.countplot(x= 'Job', data = credit, hue= 'Default')"
      ],
      "execution_count": null,
      "outputs": [
        {
          "output_type": "execute_result",
          "data": {
            "text/plain": [
              "<matplotlib.axes._subplots.AxesSubplot at 0x7f4b9fd68290>"
            ]
          },
          "metadata": {},
          "execution_count": 34
        },
        {
          "output_type": "display_data",
          "data": {
            "image/png": "[encoded data removed]",
            "text/plain": [
              "<Figure size 432x288 with 1 Axes>"
            ]
          },
          "metadata": {
            "needs_background": "light"
          }
        }
      ]
    },
    {
      "cell_type": "code",
      "metadata": {
        "colab": {
          "base_uri": "https://localhost:8080/",
          "height": 296
        },
        "id": "Yo6RVIEmuz_-",
        "outputId": "23d81a67-5a71-4a84-8a26-53732c9c090b"
      },
      "source": [
        "sns.countplot(x= 'Housing', data = credit, hue= 'Default')"
      ],
      "execution_count": null,
      "outputs": [
        {
          "output_type": "execute_result",
          "data": {
            "text/plain": [
              "<matplotlib.axes._subplots.AxesSubplot at 0x7f4b9f825e10>"
            ]
          },
          "metadata": {},
          "execution_count": 35
        },
        {
          "output_type": "display_data",
          "data": {
            "image/png": "[encoded data removed]",
            "text/plain": [
              "<Figure size 432x288 with 1 Axes>"
            ]
          },
          "metadata": {
            "needs_background": "light"
          }
        }
      ]
    },
    {
      "cell_type": "code",
      "metadata": {
        "colab": {
          "base_uri": "https://localhost:8080/",
          "height": 297
        },
        "id": "FzDyhtzyu0AB",
        "outputId": "e97d3a64-8c61-4aa7-fde3-ea6b663ae9c8"
      },
      "source": [
        "sns.countplot(x= 'Saving accounts', data = credit, hue= 'Default')"
      ],
      "execution_count": null,
      "outputs": [
        {
          "output_type": "execute_result",
          "data": {
            "text/plain": [
              "<matplotlib.axes._subplots.AxesSubplot at 0x7f4b9f80ae10>"
            ]
          },
          "metadata": {},
          "execution_count": 36
        },
        {
          "output_type": "display_data",
          "data": {
            "image/png": "[encoded data removed]",
            "text/plain": [
              "<Figure size 432x288 with 1 Axes>"
            ]
          },
          "metadata": {
            "needs_background": "light"
          }
        }
      ]
    },
    {
      "cell_type": "markdown",
      "metadata": {
        "id": "Xk0D4emju0AC"
      },
      "source": [
        "**Proporción de Savings Account con little o moderate ingreso y su default nivel**"
      ]
    },
    {
      "cell_type": "code",
      "metadata": {
        "colab": {
          "base_uri": "https://localhost:8080/"
        },
        "id": "pwWluk1-u0AD",
        "scrolled": true,
        "outputId": "a70a7129-6516-4d2e-f38d-23f6b7cfc317"
      },
      "source": [
        "print(\"\\nLittle Income :\\n\",credit[credit['Saving accounts'] == 'little']['Default'].value_counts().to_frame())\n",
        "print(\"\\nModerate Income\\n\", credit[credit['Saving accounts'] == 'moderate']['Default'].value_counts().to_frame())"
      ],
      "execution_count": null,
      "outputs": [
        {
          "output_type": "stream",
          "name": "stdout",
          "text": [
            "\n",
            "Little Income :\n",
            "       Default\n",
            "good      386\n",
            "bad       217\n",
            "\n",
            "Moderate Income\n",
            "       Default\n",
            "good       69\n",
            "bad        34\n"
          ]
        }
      ]
    },
    {
      "cell_type": "code",
      "metadata": {
        "colab": {
          "base_uri": "https://localhost:8080/",
          "height": 296
        },
        "id": "qDzponK3u0AE",
        "scrolled": false,
        "outputId": "38b6a82f-365f-40df-88d9-5fa5f2c2deaa"
      },
      "source": [
        "sns.countplot(x= 'Checking account', data = credit, hue= 'Default')"
      ],
      "execution_count": null,
      "outputs": [
        {
          "output_type": "execute_result",
          "data": {
            "text/plain": [
              "<matplotlib.axes._subplots.AxesSubplot at 0x7f4b9f811b90>"
            ]
          },
          "metadata": {},
          "execution_count": 38
        },
        {
          "output_type": "display_data",
          "data": {
            "image/png": "[encoded data removed]",
            "text/plain": [
              "<Figure size 432x288 with 1 Axes>"
            ]
          },
          "metadata": {
            "needs_background": "light"
          }
        }
      ]
    },
    {
      "cell_type": "markdown",
      "metadata": {
        "id": "BnCyrCM7u0AJ"
      },
      "source": [
        "**Proporción de Checking account con little o moderate ingreso y su default nivel**\n",
        "\n"
      ]
    },
    {
      "cell_type": "code",
      "metadata": {
        "colab": {
          "base_uri": "https://localhost:8080/"
        },
        "id": "DsT_C3jPu0AN",
        "scrolled": true,
        "outputId": "3a69e035-bd6f-493f-89e4-44e8bef39272"
      },
      "source": [
        "print(\"\\nLittle Income :\\n\",credit[credit['Checking account'] == 'little']['Default'].value_counts().to_frame())\n",
        "print(\"\\nModerate Income :\\n\",credit[credit['Checking account'] == 'moderate']['Default'].value_counts().to_frame())"
      ],
      "execution_count": null,
      "outputs": [
        {
          "output_type": "stream",
          "name": "stdout",
          "text": [
            "\n",
            "Little Income :\n",
            "       Default\n",
            "good      139\n",
            "bad       135\n",
            "\n",
            "Moderate Income :\n",
            "       Default\n",
            "good      164\n",
            "bad       105\n"
          ]
        }
      ]
    },
    {
      "cell_type": "markdown",
      "metadata": {
        "id": "qr5kWanou0AT"
      },
      "source": [
        "**Ingeniería de características**"
      ]
    },
    {
      "cell_type": "markdown",
      "metadata": {
        "id": "grs4rkSdu0AU"
      },
      "source": [
        "Según la inferencia de 'Cuenta de ahorros' y 'Cuenta corriente', podemos agrupar las columnas en 3 categorías:\n",
        "\n",
        "'Little'\n",
        "\n",
        "'Moderate'\n",
        "\n",
        "'Other'"
      ]
    },
    {
      "cell_type": "code",
      "metadata": {
        "id": "9Y6mdgZGu0AU"
      },
      "source": [
        "# 'Saving Account'\n",
        "credit['Saving accounts']=credit['Saving accounts'].map({'little': 'little', 'moderate': 'moderate', 'quite rich':'other','rich':'other', 'NA':'other' })"
      ],
      "execution_count": null,
      "outputs": []
    },
    {
      "cell_type": "code",
      "metadata": {
        "id": "8MG9vUhEu0AV"
      },
      "source": [
        "# 'Checking Account'\n",
        "credit['Checking account']= credit['Checking account'].map({'little': 'little', 'moderate': 'moderate','rich':'other', 'NA':'other' })"
      ],
      "execution_count": null,
      "outputs": []
    },
    {
      "cell_type": "code",
      "metadata": {
        "id": "MawMQsCxu0AV"
      },
      "source": [
        "## LabeEncoding the Purpose column\n",
        "le = LabelEncoder()\n",
        "credit['Purpose'] = le.fit_transform(credit['Purpose'])"
      ],
      "execution_count": null,
      "outputs": []
    },
    {
      "cell_type": "code",
      "metadata": {
        "colab": {
          "base_uri": "https://localhost:8080/"
        },
        "id": "q0r8U_6_u0An",
        "scrolled": true,
        "outputId": "316ca968-ffc1-4535-c8bf-77de7c575c16"
      },
      "source": [
        "print(\"The various purposes are: \", le.classes_.tolist(), \"\\nAnd the hot encoded numbers for the same are\", credit['Purpose'].unique().tolist())"
      ],
      "execution_count": null,
      "outputs": [
        {
          "output_type": "stream",
          "name": "stdout",
          "text": [
            "The various purposes are:  ['business', 'car', 'domestic appliances', 'education', 'furniture/equipment', 'radio/TV', 'repairs', 'vacation/others'] \n",
            "And the hot encoded numbers for the same are [5, 3, 4, 1, 0, 2, 6, 7]\n"
          ]
        }
      ]
    },
    {
      "cell_type": "code",
      "metadata": {
        "colab": {
          "base_uri": "https://localhost:8080/",
          "height": 206
        },
        "id": "Alyq0TgEu0Ap",
        "outputId": "b68c5e14-c457-4b2d-e817-f285dee7fdc4"
      },
      "source": [
        "credit.head() "
      ],
      "execution_count": null,
      "outputs": [
        {
          "output_type": "execute_result",
          "data": {
            "text/html": [
              "<div>\n",
              "<style scoped>\n",
              "    .dataframe tbody tr th:only-of-type {\n",
              "        vertical-align: middle;\n",
              "    }\n",
              "\n",
              "    .dataframe tbody tr th {\n",
              "        vertical-align: top;\n",
              "    }\n",
              "\n",
              "    .dataframe thead th {\n",
              "        text-align: right;\n",
              "    }\n",
              "</style>\n",
              "<table border=\"1\" class=\"dataframe\">\n",
              "  <thead>\n",
              "    <tr style=\"text-align: right;\">\n",
              "      <th></th>\n",
              "      <th>Age</th>\n",
              "      <th>Sex</th>\n",
              "      <th>Job</th>\n",
              "      <th>Housing</th>\n",
              "      <th>Saving accounts</th>\n",
              "      <th>Checking account</th>\n",
              "      <th>Credit amount</th>\n",
              "      <th>Duration</th>\n",
              "      <th>Purpose</th>\n",
              "      <th>Default</th>\n",
              "    </tr>\n",
              "  </thead>\n",
              "  <tbody>\n",
              "    <tr>\n",
              "      <th>0</th>\n",
              "      <td>67</td>\n",
              "      <td>male</td>\n",
              "      <td>2</td>\n",
              "      <td>own</td>\n",
              "      <td>other</td>\n",
              "      <td>little</td>\n",
              "      <td>1169</td>\n",
              "      <td>6</td>\n",
              "      <td>5</td>\n",
              "      <td>good</td>\n",
              "    </tr>\n",
              "    <tr>\n",
              "      <th>1</th>\n",
              "      <td>22</td>\n",
              "      <td>female</td>\n",
              "      <td>2</td>\n",
              "      <td>own</td>\n",
              "      <td>little</td>\n",
              "      <td>moderate</td>\n",
              "      <td>5951</td>\n",
              "      <td>48</td>\n",
              "      <td>5</td>\n",
              "      <td>bad</td>\n",
              "    </tr>\n",
              "    <tr>\n",
              "      <th>2</th>\n",
              "      <td>49</td>\n",
              "      <td>male</td>\n",
              "      <td>1</td>\n",
              "      <td>own</td>\n",
              "      <td>little</td>\n",
              "      <td>other</td>\n",
              "      <td>2096</td>\n",
              "      <td>12</td>\n",
              "      <td>3</td>\n",
              "      <td>good</td>\n",
              "    </tr>\n",
              "    <tr>\n",
              "      <th>3</th>\n",
              "      <td>45</td>\n",
              "      <td>male</td>\n",
              "      <td>2</td>\n",
              "      <td>free</td>\n",
              "      <td>little</td>\n",
              "      <td>little</td>\n",
              "      <td>7882</td>\n",
              "      <td>42</td>\n",
              "      <td>4</td>\n",
              "      <td>good</td>\n",
              "    </tr>\n",
              "    <tr>\n",
              "      <th>4</th>\n",
              "      <td>53</td>\n",
              "      <td>male</td>\n",
              "      <td>2</td>\n",
              "      <td>free</td>\n",
              "      <td>little</td>\n",
              "      <td>little</td>\n",
              "      <td>4870</td>\n",
              "      <td>24</td>\n",
              "      <td>1</td>\n",
              "      <td>bad</td>\n",
              "    </tr>\n",
              "  </tbody>\n",
              "</table>\n",
              "</div>"
            ],
            "text/plain": [
              "   Age     Sex  Job Housing  ... Credit amount Duration  Purpose  Default\n",
              "0   67    male    2     own  ...          1169        6        5     good\n",
              "1   22  female    2     own  ...          5951       48        5      bad\n",
              "2   49    male    1     own  ...          2096       12        3     good\n",
              "3   45    male    2    free  ...          7882       42        4     good\n",
              "4   53    male    2    free  ...          4870       24        1      bad\n",
              "\n",
              "[5 rows x 10 columns]"
            ]
          },
          "metadata": {},
          "execution_count": 44
        }
      ]
    },
    {
      "cell_type": "markdown",
      "metadata": {
        "id": "fPZylIxVu0Aq"
      },
      "source": [
        "**Procesamiento de datos**"
      ]
    },
    {
      "cell_type": "markdown",
      "metadata": {
        "id": "UCuQ0k-Zu0Aq"
      },
      "source": [
        "**Asignación de características 'Dependiente' y 'Independientes'**"
      ]
    },
    {
      "cell_type": "code",
      "metadata": {
        "id": "WzboSBGFu0Ar"
      },
      "source": [
        "##credit['default'] = credit['default'].map({'no':0, 'yes': 1})\n",
        "\n",
        "credit['Default'] = credit['Default'].map({'good':0, 'bad': 1})"
      ],
      "execution_count": null,
      "outputs": []
    },
    {
      "cell_type": "code",
      "metadata": {
        "colab": {
          "base_uri": "https://localhost:8080/"
        },
        "id": "AYEZeEHKu0Ar",
        "outputId": "f71e56ee-803a-4117-c52f-fc5a12020e1c"
      },
      "source": [
        "print(credit['Default'].value_counts()) ## Distribución de frecuencia del target Default"
      ],
      "execution_count": null,
      "outputs": [
        {
          "output_type": "stream",
          "name": "stdout",
          "text": [
            "0    700\n",
            "1    300\n",
            "Name: Default, dtype: int64\n"
          ]
        }
      ]
    },
    {
      "cell_type": "code",
      "metadata": {
        "id": "05lfLINgu0As"
      },
      "source": [
        "#features matrix\n",
        "\n",
        "X=credit.drop(\"Default\", axis=1)\n",
        "#separating the y-column from the rest of the data\n",
        "y=credit[\"Default\"]\n"
      ],
      "execution_count": null,
      "outputs": []
    },
    {
      "cell_type": "code",
      "metadata": {
        "id": "zZLCyGqSu0At"
      },
      "source": [
        "x1 = X.copy()"
      ],
      "execution_count": null,
      "outputs": []
    },
    {
      "cell_type": "code",
      "metadata": {
        "colab": {
          "base_uri": "https://localhost:8080/",
          "height": 424
        },
        "id": "HlNeFM4tu0At",
        "outputId": "d32bc8b2-f179-4789-bdf6-80821bba7540"
      },
      "source": [
        "x1"
      ],
      "execution_count": null,
      "outputs": [
        {
          "output_type": "execute_result",
          "data": {
            "text/html": [
              "<div>\n",
              "<style scoped>\n",
              "    .dataframe tbody tr th:only-of-type {\n",
              "        vertical-align: middle;\n",
              "    }\n",
              "\n",
              "    .dataframe tbody tr th {\n",
              "        vertical-align: top;\n",
              "    }\n",
              "\n",
              "    .dataframe thead th {\n",
              "        text-align: right;\n",
              "    }\n",
              "</style>\n",
              "<table border=\"1\" class=\"dataframe\">\n",
              "  <thead>\n",
              "    <tr style=\"text-align: right;\">\n",
              "      <th></th>\n",
              "      <th>Age</th>\n",
              "      <th>Sex</th>\n",
              "      <th>Job</th>\n",
              "      <th>Housing</th>\n",
              "      <th>Saving accounts</th>\n",
              "      <th>Checking account</th>\n",
              "      <th>Credit amount</th>\n",
              "      <th>Duration</th>\n",
              "      <th>Purpose</th>\n",
              "    </tr>\n",
              "  </thead>\n",
              "  <tbody>\n",
              "    <tr>\n",
              "      <th>0</th>\n",
              "      <td>67</td>\n",
              "      <td>male</td>\n",
              "      <td>2</td>\n",
              "      <td>own</td>\n",
              "      <td>other</td>\n",
              "      <td>little</td>\n",
              "      <td>1169</td>\n",
              "      <td>6</td>\n",
              "      <td>5</td>\n",
              "    </tr>\n",
              "    <tr>\n",
              "      <th>1</th>\n",
              "      <td>22</td>\n",
              "      <td>female</td>\n",
              "      <td>2</td>\n",
              "      <td>own</td>\n",
              "      <td>little</td>\n",
              "      <td>moderate</td>\n",
              "      <td>5951</td>\n",
              "      <td>48</td>\n",
              "      <td>5</td>\n",
              "    </tr>\n",
              "    <tr>\n",
              "      <th>2</th>\n",
              "      <td>49</td>\n",
              "      <td>male</td>\n",
              "      <td>1</td>\n",
              "      <td>own</td>\n",
              "      <td>little</td>\n",
              "      <td>other</td>\n",
              "      <td>2096</td>\n",
              "      <td>12</td>\n",
              "      <td>3</td>\n",
              "    </tr>\n",
              "    <tr>\n",
              "      <th>3</th>\n",
              "      <td>45</td>\n",
              "      <td>male</td>\n",
              "      <td>2</td>\n",
              "      <td>free</td>\n",
              "      <td>little</td>\n",
              "      <td>little</td>\n",
              "      <td>7882</td>\n",
              "      <td>42</td>\n",
              "      <td>4</td>\n",
              "    </tr>\n",
              "    <tr>\n",
              "      <th>4</th>\n",
              "      <td>53</td>\n",
              "      <td>male</td>\n",
              "      <td>2</td>\n",
              "      <td>free</td>\n",
              "      <td>little</td>\n",
              "      <td>little</td>\n",
              "      <td>4870</td>\n",
              "      <td>24</td>\n",
              "      <td>1</td>\n",
              "    </tr>\n",
              "    <tr>\n",
              "      <th>...</th>\n",
              "      <td>...</td>\n",
              "      <td>...</td>\n",
              "      <td>...</td>\n",
              "      <td>...</td>\n",
              "      <td>...</td>\n",
              "      <td>...</td>\n",
              "      <td>...</td>\n",
              "      <td>...</td>\n",
              "      <td>...</td>\n",
              "    </tr>\n",
              "    <tr>\n",
              "      <th>995</th>\n",
              "      <td>31</td>\n",
              "      <td>female</td>\n",
              "      <td>1</td>\n",
              "      <td>own</td>\n",
              "      <td>little</td>\n",
              "      <td>other</td>\n",
              "      <td>1736</td>\n",
              "      <td>12</td>\n",
              "      <td>4</td>\n",
              "    </tr>\n",
              "    <tr>\n",
              "      <th>996</th>\n",
              "      <td>40</td>\n",
              "      <td>male</td>\n",
              "      <td>3</td>\n",
              "      <td>own</td>\n",
              "      <td>little</td>\n",
              "      <td>little</td>\n",
              "      <td>3857</td>\n",
              "      <td>30</td>\n",
              "      <td>1</td>\n",
              "    </tr>\n",
              "    <tr>\n",
              "      <th>997</th>\n",
              "      <td>38</td>\n",
              "      <td>male</td>\n",
              "      <td>2</td>\n",
              "      <td>own</td>\n",
              "      <td>little</td>\n",
              "      <td>other</td>\n",
              "      <td>804</td>\n",
              "      <td>12</td>\n",
              "      <td>5</td>\n",
              "    </tr>\n",
              "    <tr>\n",
              "      <th>998</th>\n",
              "      <td>23</td>\n",
              "      <td>male</td>\n",
              "      <td>2</td>\n",
              "      <td>free</td>\n",
              "      <td>little</td>\n",
              "      <td>little</td>\n",
              "      <td>1845</td>\n",
              "      <td>45</td>\n",
              "      <td>5</td>\n",
              "    </tr>\n",
              "    <tr>\n",
              "      <th>999</th>\n",
              "      <td>27</td>\n",
              "      <td>male</td>\n",
              "      <td>2</td>\n",
              "      <td>own</td>\n",
              "      <td>moderate</td>\n",
              "      <td>moderate</td>\n",
              "      <td>4576</td>\n",
              "      <td>45</td>\n",
              "      <td>1</td>\n",
              "    </tr>\n",
              "  </tbody>\n",
              "</table>\n",
              "<p>1000 rows × 9 columns</p>\n",
              "</div>"
            ],
            "text/plain": [
              "     Age     Sex  Job  ... Credit amount Duration Purpose\n",
              "0     67    male    2  ...          1169        6       5\n",
              "1     22  female    2  ...          5951       48       5\n",
              "2     49    male    1  ...          2096       12       3\n",
              "3     45    male    2  ...          7882       42       4\n",
              "4     53    male    2  ...          4870       24       1\n",
              "..   ...     ...  ...  ...           ...      ...     ...\n",
              "995   31  female    1  ...          1736       12       4\n",
              "996   40    male    3  ...          3857       30       1\n",
              "997   38    male    2  ...           804       12       5\n",
              "998   23    male    2  ...          1845       45       5\n",
              "999   27    male    2  ...          4576       45       1\n",
              "\n",
              "[1000 rows x 9 columns]"
            ]
          },
          "metadata": {},
          "execution_count": 49
        }
      ]
    },
    {
      "cell_type": "markdown",
      "metadata": {
        "id": "FacNXHFAN42r"
      },
      "source": [
        "**Estandarización de los datos: Dummification de las caracteristicas categóricas y Estandarizacion de las caracteristicas numéricas.**"
      ]
    },
    {
      "cell_type": "code",
      "metadata": {
        "colab": {
          "base_uri": "https://localhost:8080/"
        },
        "id": "_HzuqOhju0Av",
        "scrolled": true,
        "outputId": "61b23512-8443-4cbb-b5e7-1e09fe19ed5b"
      },
      "source": [
        "# List to store Categorical Columns\n",
        "cat_cols = list(x1.columns[x1.dtypes == 'object'])\n",
        "print(\"Categorical Columns: \",cat_cols)\n"
      ],
      "execution_count": null,
      "outputs": [
        {
          "output_type": "stream",
          "name": "stdout",
          "text": [
            "Categorical Columns:  ['Sex', 'Housing', 'Saving accounts', 'Checking account']\n"
          ]
        }
      ]
    },
    {
      "cell_type": "code",
      "metadata": {
        "colab": {
          "base_uri": "https://localhost:8080/"
        },
        "id": "sds1LozSu0Av",
        "outputId": "7a3d5850-fd49-4418-d2d9-5065b0d990a5"
      },
      "source": [
        "# List to store Numerical Columns\n",
        "\n",
        "num_cols = list(x1.columns[x1.dtypes!= 'object'])\n",
        "print(\"\\nNumerical Columns:\" ,num_cols)\n"
      ],
      "execution_count": null,
      "outputs": [
        {
          "output_type": "stream",
          "name": "stdout",
          "text": [
            "\n",
            "Numerical Columns: ['Age', 'Job', 'Credit amount', 'Duration', 'Purpose']\n"
          ]
        }
      ]
    },
    {
      "cell_type": "markdown",
      "metadata": {
        "id": "JRtEu6xpu0Aw"
      },
      "source": [
        "###### *Etiquetado de características categoricas: ** \n",
        "    \n",
        "###### La mayor parte de los algoritmos de ML, trabajan con características numéricas.    "
      ]
    },
    {
      "cell_type": "code",
      "metadata": {
        "id": "E2ydAp4fu0Ax"
      },
      "source": [
        "## One-Hot Encoding Categorical Columns\n",
        "## drop_first=True evita la multicolibnealidad entre las caracteristicas\n",
        "\n",
        "x1_dummy=pd.get_dummies(x1[cat_cols], drop_first=True)\n"
      ],
      "execution_count": null,
      "outputs": []
    },
    {
      "cell_type": "code",
      "metadata": {
        "colab": {
          "base_uri": "https://localhost:8080/",
          "height": 424
        },
        "id": "JJkvMWIcu0Az",
        "outputId": "72d902cd-f816-4156-ab8f-1c914a9572a7"
      },
      "source": [
        "x1_dummy "
      ],
      "execution_count": null,
      "outputs": [
        {
          "output_type": "execute_result",
          "data": {
            "text/html": [
              "<div>\n",
              "<style scoped>\n",
              "    .dataframe tbody tr th:only-of-type {\n",
              "        vertical-align: middle;\n",
              "    }\n",
              "\n",
              "    .dataframe tbody tr th {\n",
              "        vertical-align: top;\n",
              "    }\n",
              "\n",
              "    .dataframe thead th {\n",
              "        text-align: right;\n",
              "    }\n",
              "</style>\n",
              "<table border=\"1\" class=\"dataframe\">\n",
              "  <thead>\n",
              "    <tr style=\"text-align: right;\">\n",
              "      <th></th>\n",
              "      <th>Sex_male</th>\n",
              "      <th>Housing_own</th>\n",
              "      <th>Housing_rent</th>\n",
              "      <th>Saving accounts_moderate</th>\n",
              "      <th>Saving accounts_other</th>\n",
              "      <th>Checking account_moderate</th>\n",
              "      <th>Checking account_other</th>\n",
              "    </tr>\n",
              "  </thead>\n",
              "  <tbody>\n",
              "    <tr>\n",
              "      <th>0</th>\n",
              "      <td>1</td>\n",
              "      <td>1</td>\n",
              "      <td>0</td>\n",
              "      <td>0</td>\n",
              "      <td>1</td>\n",
              "      <td>0</td>\n",
              "      <td>0</td>\n",
              "    </tr>\n",
              "    <tr>\n",
              "      <th>1</th>\n",
              "      <td>0</td>\n",
              "      <td>1</td>\n",
              "      <td>0</td>\n",
              "      <td>0</td>\n",
              "      <td>0</td>\n",
              "      <td>1</td>\n",
              "      <td>0</td>\n",
              "    </tr>\n",
              "    <tr>\n",
              "      <th>2</th>\n",
              "      <td>1</td>\n",
              "      <td>1</td>\n",
              "      <td>0</td>\n",
              "      <td>0</td>\n",
              "      <td>0</td>\n",
              "      <td>0</td>\n",
              "      <td>1</td>\n",
              "    </tr>\n",
              "    <tr>\n",
              "      <th>3</th>\n",
              "      <td>1</td>\n",
              "      <td>0</td>\n",
              "      <td>0</td>\n",
              "      <td>0</td>\n",
              "      <td>0</td>\n",
              "      <td>0</td>\n",
              "      <td>0</td>\n",
              "    </tr>\n",
              "    <tr>\n",
              "      <th>4</th>\n",
              "      <td>1</td>\n",
              "      <td>0</td>\n",
              "      <td>0</td>\n",
              "      <td>0</td>\n",
              "      <td>0</td>\n",
              "      <td>0</td>\n",
              "      <td>0</td>\n",
              "    </tr>\n",
              "    <tr>\n",
              "      <th>...</th>\n",
              "      <td>...</td>\n",
              "      <td>...</td>\n",
              "      <td>...</td>\n",
              "      <td>...</td>\n",
              "      <td>...</td>\n",
              "      <td>...</td>\n",
              "      <td>...</td>\n",
              "    </tr>\n",
              "    <tr>\n",
              "      <th>995</th>\n",
              "      <td>0</td>\n",
              "      <td>1</td>\n",
              "      <td>0</td>\n",
              "      <td>0</td>\n",
              "      <td>0</td>\n",
              "      <td>0</td>\n",
              "      <td>1</td>\n",
              "    </tr>\n",
              "    <tr>\n",
              "      <th>996</th>\n",
              "      <td>1</td>\n",
              "      <td>1</td>\n",
              "      <td>0</td>\n",
              "      <td>0</td>\n",
              "      <td>0</td>\n",
              "      <td>0</td>\n",
              "      <td>0</td>\n",
              "    </tr>\n",
              "    <tr>\n",
              "      <th>997</th>\n",
              "      <td>1</td>\n",
              "      <td>1</td>\n",
              "      <td>0</td>\n",
              "      <td>0</td>\n",
              "      <td>0</td>\n",
              "      <td>0</td>\n",
              "      <td>1</td>\n",
              "    </tr>\n",
              "    <tr>\n",
              "      <th>998</th>\n",
              "      <td>1</td>\n",
              "      <td>0</td>\n",
              "      <td>0</td>\n",
              "      <td>0</td>\n",
              "      <td>0</td>\n",
              "      <td>0</td>\n",
              "      <td>0</td>\n",
              "    </tr>\n",
              "    <tr>\n",
              "      <th>999</th>\n",
              "      <td>1</td>\n",
              "      <td>1</td>\n",
              "      <td>0</td>\n",
              "      <td>1</td>\n",
              "      <td>0</td>\n",
              "      <td>1</td>\n",
              "      <td>0</td>\n",
              "    </tr>\n",
              "  </tbody>\n",
              "</table>\n",
              "<p>1000 rows × 7 columns</p>\n",
              "</div>"
            ],
            "text/plain": [
              "     Sex_male  Housing_own  ...  Checking account_moderate  Checking account_other\n",
              "0           1            1  ...                          0                       0\n",
              "1           0            1  ...                          1                       0\n",
              "2           1            1  ...                          0                       1\n",
              "3           1            0  ...                          0                       0\n",
              "4           1            0  ...                          0                       0\n",
              "..        ...          ...  ...                        ...                     ...\n",
              "995         0            1  ...                          0                       1\n",
              "996         1            1  ...                          0                       0\n",
              "997         1            1  ...                          0                       1\n",
              "998         1            0  ...                          0                       0\n",
              "999         1            1  ...                          1                       0\n",
              "\n",
              "[1000 rows x 7 columns]"
            ]
          },
          "metadata": {},
          "execution_count": 53
        }
      ]
    },
    {
      "cell_type": "code",
      "metadata": {
        "id": "vdiXkDIJu0Az"
      },
      "source": [
        "## Joining New dummified and Numerical columns\n",
        "x_new = pd.concat([x1_dummy, x1[num_cols]], axis=1, join='inner')\n",
        "#x_new = pd.concat([x1_dummy, x1[num_cols]], axis=1, join='inner')"
      ],
      "execution_count": null,
      "outputs": []
    },
    {
      "cell_type": "code",
      "metadata": {
        "colab": {
          "base_uri": "https://localhost:8080/",
          "height": 441
        },
        "id": "pXprGpW0u0A0",
        "outputId": "753d95e8-f6a0-4491-cc56-5c525b167fef"
      },
      "source": [
        "x_new"
      ],
      "execution_count": null,
      "outputs": [
        {
          "output_type": "execute_result",
          "data": {
            "text/html": [
              "<div>\n",
              "<style scoped>\n",
              "    .dataframe tbody tr th:only-of-type {\n",
              "        vertical-align: middle;\n",
              "    }\n",
              "\n",
              "    .dataframe tbody tr th {\n",
              "        vertical-align: top;\n",
              "    }\n",
              "\n",
              "    .dataframe thead th {\n",
              "        text-align: right;\n",
              "    }\n",
              "</style>\n",
              "<table border=\"1\" class=\"dataframe\">\n",
              "  <thead>\n",
              "    <tr style=\"text-align: right;\">\n",
              "      <th></th>\n",
              "      <th>Sex_male</th>\n",
              "      <th>Housing_own</th>\n",
              "      <th>Housing_rent</th>\n",
              "      <th>Saving accounts_moderate</th>\n",
              "      <th>Saving accounts_other</th>\n",
              "      <th>Checking account_moderate</th>\n",
              "      <th>Checking account_other</th>\n",
              "      <th>Age</th>\n",
              "      <th>Job</th>\n",
              "      <th>Credit amount</th>\n",
              "      <th>Duration</th>\n",
              "      <th>Purpose</th>\n",
              "    </tr>\n",
              "  </thead>\n",
              "  <tbody>\n",
              "    <tr>\n",
              "      <th>0</th>\n",
              "      <td>1</td>\n",
              "      <td>1</td>\n",
              "      <td>0</td>\n",
              "      <td>0</td>\n",
              "      <td>1</td>\n",
              "      <td>0</td>\n",
              "      <td>0</td>\n",
              "      <td>67</td>\n",
              "      <td>2</td>\n",
              "      <td>1169</td>\n",
              "      <td>6</td>\n",
              "      <td>5</td>\n",
              "    </tr>\n",
              "    <tr>\n",
              "      <th>1</th>\n",
              "      <td>0</td>\n",
              "      <td>1</td>\n",
              "      <td>0</td>\n",
              "      <td>0</td>\n",
              "      <td>0</td>\n",
              "      <td>1</td>\n",
              "      <td>0</td>\n",
              "      <td>22</td>\n",
              "      <td>2</td>\n",
              "      <td>5951</td>\n",
              "      <td>48</td>\n",
              "      <td>5</td>\n",
              "    </tr>\n",
              "    <tr>\n",
              "      <th>2</th>\n",
              "      <td>1</td>\n",
              "      <td>1</td>\n",
              "      <td>0</td>\n",
              "      <td>0</td>\n",
              "      <td>0</td>\n",
              "      <td>0</td>\n",
              "      <td>1</td>\n",
              "      <td>49</td>\n",
              "      <td>1</td>\n",
              "      <td>2096</td>\n",
              "      <td>12</td>\n",
              "      <td>3</td>\n",
              "    </tr>\n",
              "    <tr>\n",
              "      <th>3</th>\n",
              "      <td>1</td>\n",
              "      <td>0</td>\n",
              "      <td>0</td>\n",
              "      <td>0</td>\n",
              "      <td>0</td>\n",
              "      <td>0</td>\n",
              "      <td>0</td>\n",
              "      <td>45</td>\n",
              "      <td>2</td>\n",
              "      <td>7882</td>\n",
              "      <td>42</td>\n",
              "      <td>4</td>\n",
              "    </tr>\n",
              "    <tr>\n",
              "      <th>4</th>\n",
              "      <td>1</td>\n",
              "      <td>0</td>\n",
              "      <td>0</td>\n",
              "      <td>0</td>\n",
              "      <td>0</td>\n",
              "      <td>0</td>\n",
              "      <td>0</td>\n",
              "      <td>53</td>\n",
              "      <td>2</td>\n",
              "      <td>4870</td>\n",
              "      <td>24</td>\n",
              "      <td>1</td>\n",
              "    </tr>\n",
              "    <tr>\n",
              "      <th>...</th>\n",
              "      <td>...</td>\n",
              "      <td>...</td>\n",
              "      <td>...</td>\n",
              "      <td>...</td>\n",
              "      <td>...</td>\n",
              "      <td>...</td>\n",
              "      <td>...</td>\n",
              "      <td>...</td>\n",
              "      <td>...</td>\n",
              "      <td>...</td>\n",
              "      <td>...</td>\n",
              "      <td>...</td>\n",
              "    </tr>\n",
              "    <tr>\n",
              "      <th>995</th>\n",
              "      <td>0</td>\n",
              "      <td>1</td>\n",
              "      <td>0</td>\n",
              "      <td>0</td>\n",
              "      <td>0</td>\n",
              "      <td>0</td>\n",
              "      <td>1</td>\n",
              "      <td>31</td>\n",
              "      <td>1</td>\n",
              "      <td>1736</td>\n",
              "      <td>12</td>\n",
              "      <td>4</td>\n",
              "    </tr>\n",
              "    <tr>\n",
              "      <th>996</th>\n",
              "      <td>1</td>\n",
              "      <td>1</td>\n",
              "      <td>0</td>\n",
              "      <td>0</td>\n",
              "      <td>0</td>\n",
              "      <td>0</td>\n",
              "      <td>0</td>\n",
              "      <td>40</td>\n",
              "      <td>3</td>\n",
              "      <td>3857</td>\n",
              "      <td>30</td>\n",
              "      <td>1</td>\n",
              "    </tr>\n",
              "    <tr>\n",
              "      <th>997</th>\n",
              "      <td>1</td>\n",
              "      <td>1</td>\n",
              "      <td>0</td>\n",
              "      <td>0</td>\n",
              "      <td>0</td>\n",
              "      <td>0</td>\n",
              "      <td>1</td>\n",
              "      <td>38</td>\n",
              "      <td>2</td>\n",
              "      <td>804</td>\n",
              "      <td>12</td>\n",
              "      <td>5</td>\n",
              "    </tr>\n",
              "    <tr>\n",
              "      <th>998</th>\n",
              "      <td>1</td>\n",
              "      <td>0</td>\n",
              "      <td>0</td>\n",
              "      <td>0</td>\n",
              "      <td>0</td>\n",
              "      <td>0</td>\n",
              "      <td>0</td>\n",
              "      <td>23</td>\n",
              "      <td>2</td>\n",
              "      <td>1845</td>\n",
              "      <td>45</td>\n",
              "      <td>5</td>\n",
              "    </tr>\n",
              "    <tr>\n",
              "      <th>999</th>\n",
              "      <td>1</td>\n",
              "      <td>1</td>\n",
              "      <td>0</td>\n",
              "      <td>1</td>\n",
              "      <td>0</td>\n",
              "      <td>1</td>\n",
              "      <td>0</td>\n",
              "      <td>27</td>\n",
              "      <td>2</td>\n",
              "      <td>4576</td>\n",
              "      <td>45</td>\n",
              "      <td>1</td>\n",
              "    </tr>\n",
              "  </tbody>\n",
              "</table>\n",
              "<p>1000 rows × 12 columns</p>\n",
              "</div>"
            ],
            "text/plain": [
              "     Sex_male  Housing_own  Housing_rent  ...  Credit amount  Duration  Purpose\n",
              "0           1            1             0  ...           1169         6        5\n",
              "1           0            1             0  ...           5951        48        5\n",
              "2           1            1             0  ...           2096        12        3\n",
              "3           1            0             0  ...           7882        42        4\n",
              "4           1            0             0  ...           4870        24        1\n",
              "..        ...          ...           ...  ...            ...       ...      ...\n",
              "995         0            1             0  ...           1736        12        4\n",
              "996         1            1             0  ...           3857        30        1\n",
              "997         1            1             0  ...            804        12        5\n",
              "998         1            0             0  ...           1845        45        5\n",
              "999         1            1             0  ...           4576        45        1\n",
              "\n",
              "[1000 rows x 12 columns]"
            ]
          },
          "metadata": {},
          "execution_count": 55
        }
      ]
    },
    {
      "cell_type": "markdown",
      "metadata": {
        "id": "F8wlHxVju0A2"
      },
      "source": [
        "**Estandarización:**\n",
        "    \n",
        "StandardScaler estandariza una característica restando la media y \n",
        "luego escalando a la varianza de la unidad. La varianza unitaria significa dividir \n",
        "todos los valores por la desviación estándar. "
      ]
    },
    {
      "cell_type": "code",
      "metadata": {
        "id": "NojQPFAUu0A2"
      },
      "source": [
        "\n",
        "## Estandarización: StandardScaler estandariza una característica restando la media y \n",
        "## luego escalando a la varianza de la unidad. La varianza unitaria significa dividir \n",
        "## todos los valores por la desviación estándar. \n",
        "\n",
        "#### Normalizing the Dataset\n",
        "ss = StandardScaler()\n",
        "x_normal = ss.fit_transform(x_new)"
      ],
      "execution_count": null,
      "outputs": []
    },
    {
      "cell_type": "markdown",
      "metadata": {
        "id": "-z2opaMpRIQr"
      },
      "source": [
        "Dividiendo los datos en train y test"
      ]
    },
    {
      "cell_type": "markdown",
      "metadata": {
        "id": "N9KkeQAzRJUQ"
      },
      "source": [
        "**random_state :**\n",
        "\n",
        "Se usa básicamente para reproducir su problema de la misma manera cada vez que se ejecuta. Si no usa un estado_aleatorio en train_test_split, cada vez que realice la división, es posible que obtenga un conjunto diferente de puntos de datos de Test y train y no lo ayudará a depurar en caso de que tenga un problema.\n",
        "\n",
        "Es solo para asegurarse de obtener la misma división cada vez que ejecuta su script. Leyendo sobre generadores de números pseudoaleatorios, (un número como 32525352 tendría el mismo efecto que 0 o 1; es solo una constante que se asigna a algún estado interno) Si no lo hace, se inicializa en función del tiempo, lo que da como resultado, resultados diferentes en la mayoría de sus ejecuciones"
      ]
    },
    {
      "cell_type": "code",
      "metadata": {
        "id": "Rzvr953Hu0A3"
      },
      "source": [
        "from sklearn.model_selection import train_test_split\n",
        "X_train, X_test, y_train, y_test = train_test_split(x_normal, y, test_size = 0.2, random_state = 2020,stratify=y)"
      ],
      "execution_count": null,
      "outputs": []
    },
    {
      "cell_type": "code",
      "metadata": {
        "id": "a1311pRHu0A4"
      },
      "source": [
        "#### En el siguiente paso se busca mantener las proporcions de desequilibrio tanto en test como en prueba"
      ],
      "execution_count": null,
      "outputs": []
    },
    {
      "cell_type": "code",
      "metadata": {
        "colab": {
          "base_uri": "https://localhost:8080/"
        },
        "id": "KXc8pvZhu0A4",
        "outputId": "10a28994-7ad4-4293-9a2f-14eab5a27c16"
      },
      "source": [
        "# Results from split\n",
        "train_0, train_1 = len(y_train[y_train==0]), len(y_train[y_train==1])\n",
        "test_0, test_1 = len(y_test[y_test==0]), len(y_test[y_test==1])\n",
        "print('>Train: 0=%d, 1=%d, Test: 0=%d, 1=%d' % (train_0, train_1, test_0, test_1))"
      ],
      "execution_count": null,
      "outputs": [
        {
          "output_type": "stream",
          "name": "stdout",
          "text": [
            ">Train: 0=560, 1=240, Test: 0=140, 1=60\n"
          ]
        }
      ]
    },
    {
      "cell_type": "code",
      "metadata": {
        "id": "cwUzcsUT3YcD"
      },
      "source": [
        "def build_model_train_test(model,x_train,x_test,y_train,y_test):\n",
        "    model.fit(x_train,y_train)\n",
        "\n",
        "    y_pred = model.predict(x_train)\n",
        "    \n",
        "    print(\"\\n----------Accuracy Scores on Train data------------------------------------\")\n",
        "    print(\"F1 Score: \", f1_score(y_train,y_pred))\n",
        "    print(\"Precision Score: \", precision_score(y_train,y_pred))\n",
        "    print(\"Recall Score: \", recall_score(y_train,y_pred))\n",
        "\n",
        "\n",
        "    print(\"\\n----------Accuracy Scores on Test data------------------------------------\")\n",
        "    y_pred_test = model.predict(x_test)\n",
        "    \n",
        "    print(\"F1 Score: \", f1_score(y_test,y_pred_test))\n",
        "    print(\"Precision Score: \", precision_score(y_test,y_pred_test))\n",
        "    print(\"Recall Score: \", recall_score(y_test,y_pred_test))\n",
        "\n",
        "    #Confusion Matrix\n",
        "    plt.figure(figsize=(18,6))\n",
        "    gs = gridspec.GridSpec(1,2)\n",
        "\n",
        "    ax1 = plt.subplot(gs[0])\n",
        "    cnf_matrix = confusion_matrix(y_train,y_pred)\n",
        "    row_sum = cnf_matrix.sum(axis=1,keepdims=True)\n",
        "    cnf_matrix_norm =cnf_matrix / row_sum\n",
        "    sns.heatmap(cnf_matrix_norm,cmap='YlGnBu',annot=True)\n",
        "    plt.title(\"Normalized Confusion Matrix - Train Data\")\n",
        "\n",
        "    ax2 = plt.subplot(gs[1])\n",
        "    \n",
        "    cnf_matrix = confusion_matrix(y_test,y_pred_test)\n",
        "    row_sum = cnf_matrix.sum(axis=1,keepdims=True)\n",
        "    cnf_matrix_norm =cnf_matrix / row_sum\n",
        "    sns.heatmap(cnf_matrix_norm,cbar=False,cmap='Greens',annot=True)\n",
        "    plt.title(\"Normalized Confusion Matrix - Test Data\")\n",
        "\n",
        "#sns.heatmap(cm_dt,cbar=False,annot=True,cmap=\"Greens\",fmt=\"d\")"
      ],
      "execution_count": null,
      "outputs": []
    },
    {
      "cell_type": "code",
      "metadata": {
        "colab": {
          "base_uri": "https://localhost:8080/",
          "height": 564
        },
        "id": "4BLntfJdu0BQ",
        "outputId": "62614ca5-ed72-4a4e-98db-131004f25b91"
      },
      "source": [
        "from sklearn.linear_model import LogisticRegression\n",
        "lm = LogisticRegression(random_state = 2020)\n",
        "#lm = LogisticRegression(random_state=2020)\n",
        "build_model_train_test(lm, X_train, X_test,y_train,y_test)"
      ],
      "execution_count": null,
      "outputs": [
        {
          "output_type": "stream",
          "name": "stdout",
          "text": [
            "\n",
            "----------Accuracy Scores on Train data------------------------------------\n",
            "F1 Score:  0.50126582278481\n",
            "Precision Score:  0.6387096774193548\n",
            "Recall Score:  0.4125\n",
            "\n",
            "----------Accuracy Scores on Test data------------------------------------\n",
            "F1 Score:  0.46464646464646464\n",
            "Precision Score:  0.5897435897435898\n",
            "Recall Score:  0.38333333333333336\n"
          ]
        },
        {
          "output_type": "display_data",
          "data": {
            "image/png": "[encoded data removed]",
            "text/plain": [
              "<Figure size 1296x432 with 3 Axes>"
            ]
          },
          "metadata": {
            "needs_background": "light"
          }
        }
      ]
    },
    {
      "cell_type": "markdown",
      "metadata": {
        "id": "Do0xwU0DOC79"
      },
      "source": [
        "Se observa que el recall, para la Logistic Regression tanto en datos de train, como en datos de test, es de: 0.41 y 0.38 respectivamente.Por lo que tenemos un rendimiento bajo."
      ]
    },
    {
      "cell_type": "code",
      "metadata": {
        "id": "7JEZYEbcu0BS"
      },
      "source": [
        "## Training the SVM model on the Training set"
      ],
      "execution_count": null,
      "outputs": []
    },
    {
      "cell_type": "code",
      "metadata": {
        "colab": {
          "base_uri": "https://localhost:8080/",
          "height": 564
        },
        "id": "b1HNyAg1u0BU",
        "outputId": "4ec43dc0-8fef-495c-b8ab-1c8640291f47"
      },
      "source": [
        "from sklearn.svm import SVC\n",
        "svm = SVC(kernel = 'linear', random_state = 0)\n",
        "#lm.fit(X_sample, y_sample)\n",
        "build_model_train_test(svm, X_train, X_test,y_train,y_test)\n"
      ],
      "execution_count": null,
      "outputs": [
        {
          "output_type": "stream",
          "name": "stdout",
          "text": [
            "\n",
            "----------Accuracy Scores on Train data------------------------------------\n",
            "F1 Score:  0.41714285714285715\n",
            "Precision Score:  0.6636363636363637\n",
            "Recall Score:  0.30416666666666664\n",
            "\n",
            "----------Accuracy Scores on Test data------------------------------------\n",
            "F1 Score:  0.3863636363636363\n",
            "Precision Score:  0.6071428571428571\n",
            "Recall Score:  0.2833333333333333\n"
          ]
        },
        {
          "output_type": "display_data",
          "data": {
            "image/png": "[encoded data removed]",
            "text/plain": [
              "<Figure size 1296x432 with 3 Axes>"
            ]
          },
          "metadata": {
            "needs_background": "light"
          }
        }
      ]
    },
    {
      "cell_type": "markdown",
      "metadata": {
        "id": "2EENeVxiOgnB"
      },
      "source": [
        "Se observa que el recall, para el support vector machine tanto en datos de train, como en datos de test, es de: 0.3 y 0.28 respectivamente.Por lo que tenemos un rendimiento bajo."
      ]
    },
    {
      "cell_type": "code",
      "metadata": {
        "id": "jNvBc4Zzu0BY"
      },
      "source": [
        "## Training the Random Forest model on the Training set"
      ],
      "execution_count": null,
      "outputs": []
    },
    {
      "cell_type": "code",
      "metadata": {
        "colab": {
          "base_uri": "https://localhost:8080/",
          "height": 564
        },
        "id": "ezwQzmGJu0BY",
        "outputId": "e122e936-3672-469c-d00e-9bf8b4119a8b"
      },
      "source": [
        "from sklearn.ensemble import RandomForestClassifier\n",
        "rf = RandomForestClassifier(n_estimators = 10, criterion = 'entropy', random_state = 2020)\n",
        "\n",
        "build_model_train_test(rf, X_train, X_test,y_train,y_test)"
      ],
      "execution_count": null,
      "outputs": [
        {
          "output_type": "stream",
          "name": "stdout",
          "text": [
            "\n",
            "----------Accuracy Scores on Train data------------------------------------\n",
            "F1 Score:  0.967741935483871\n",
            "Precision Score:  1.0\n",
            "Recall Score:  0.9375\n",
            "\n",
            "----------Accuracy Scores on Test data------------------------------------\n",
            "F1 Score:  0.4666666666666667\n",
            "Precision Score:  0.7\n",
            "Recall Score:  0.35\n"
          ]
        },
        {
          "output_type": "display_data",
          "data": {
            "image/png": "[encoded data removed]",
            "text/plain": [
              "<Figure size 1296x432 with 3 Axes>"
            ]
          },
          "metadata": {
            "needs_background": "light"
          }
        }
      ]
    },
    {
      "cell_type": "markdown",
      "metadata": {
        "id": "XfQeSBa6OolQ"
      },
      "source": [
        "Se observa que el recall, para el Random Forest  tanto en datos de train, como en datos de test, es de: 0.94 y 0.35 respectivamente.Por lo que tenemos un rendimiento bajo."
      ]
    },
    {
      "cell_type": "code",
      "metadata": {
        "id": "yRQeRwdIu0BZ"
      },
      "source": [
        "## Training the Gradient  Boosting Classifier model on the Training set"
      ],
      "execution_count": null,
      "outputs": []
    },
    {
      "cell_type": "code",
      "metadata": {
        "colab": {
          "base_uri": "https://localhost:8080/",
          "height": 564
        },
        "id": "j_9c9Q7Vu0Ba",
        "outputId": "b29eb748-0c00-41d9-ddd8-2d1dc09a1aa0"
      },
      "source": [
        "from sklearn.ensemble import GradientBoostingClassifier\n",
        "gbc= GradientBoostingClassifier(random_state = 2020)\n",
        "\n",
        "build_model_train_test(gbc,X_train, X_test,y_train,y_test)\n"
      ],
      "execution_count": null,
      "outputs": [
        {
          "output_type": "stream",
          "name": "stdout",
          "text": [
            "\n",
            "----------Accuracy Scores on Train data------------------------------------\n",
            "F1 Score:  0.7518072289156628\n",
            "Precision Score:  0.8914285714285715\n",
            "Recall Score:  0.65\n",
            "\n",
            "----------Accuracy Scores on Test data------------------------------------\n",
            "F1 Score:  0.4791666666666667\n",
            "Precision Score:  0.6388888888888888\n",
            "Recall Score:  0.38333333333333336\n"
          ]
        },
        {
          "output_type": "display_data",
          "data": {
            "image/png": "[encoded data removed]",
            "text/plain": [
              "<Figure size 1296x432 with 3 Axes>"
            ]
          },
          "metadata": {
            "needs_background": "light"
          }
        }
      ]
    },
    {
      "cell_type": "markdown",
      "metadata": {
        "id": "0_2pq3CDO6d-"
      },
      "source": [
        "Se observa que el recall, para el Gradient Boosting tanto en datos de train, como en datos de test, es de: 0.65 y 0.38  respectivamente.Por lo que tenemos un rendimiento bajo."
      ]
    },
    {
      "cell_type": "code",
      "metadata": {
        "id": "c-qkvLNQu0Bb"
      },
      "source": [
        "#  ## Training the XGBoost model on the Training set  "
      ],
      "execution_count": null,
      "outputs": []
    },
    {
      "cell_type": "code",
      "metadata": {
        "colab": {
          "base_uri": "https://localhost:8080/",
          "height": 564
        },
        "id": "DDm0aUagu0Bb",
        "outputId": "d6234651-6fb1-41e0-8e48-e306100d7656"
      },
      "source": [
        "# Load libraries\n",
        "from sklearn.ensemble import AdaBoostClassifier\n",
        "# Create adaboost classifer object\n",
        "abc = AdaBoostClassifier(random_state = 2020)\n",
        "# Train Adaboost Classifer\n",
        "build_model_train_test(abc, X_train, X_test,y_train,y_test)"
      ],
      "execution_count": null,
      "outputs": [
        {
          "output_type": "stream",
          "name": "stdout",
          "text": [
            "\n",
            "----------Accuracy Scores on Train data------------------------------------\n",
            "F1 Score:  0.5601965601965603\n",
            "Precision Score:  0.6826347305389222\n",
            "Recall Score:  0.475\n",
            "\n",
            "----------Accuracy Scores on Test data------------------------------------\n",
            "F1 Score:  0.4693877551020408\n",
            "Precision Score:  0.6052631578947368\n",
            "Recall Score:  0.38333333333333336\n"
          ]
        },
        {
          "output_type": "display_data",
          "data": {
            "image/png": "[encoded data removed]",
            "text/plain": [
              "<Figure size 1296x432 with 3 Axes>"
            ]
          },
          "metadata": {
            "needs_background": "light"
          }
        }
      ]
    },
    {
      "cell_type": "markdown",
      "metadata": {
        "id": "jUleyoCaPRYZ"
      },
      "source": [
        "Se observa que el recall, para el AdaBoost tanto en datos de train, como en datos de test, es de: 0.48 y 0.38  respectivamente.Por lo que tenemos un rendimiento bajo."
      ]
    },
    {
      "cell_type": "markdown",
      "metadata": {
        "id": "fp0Mp6IQQCAO"
      },
      "source": [
        "**Cuáles son los 2 mejores modelos?**"
      ]
    },
    {
      "cell_type": "markdown",
      "metadata": {
        "id": "LTeGwe2eQFKT"
      },
      "source": [
        "De los resultados de Recall, se observa que en general los rendimientos son bajos.Obteniendo con el modelo de Logistic Regression  y Support Vector Machine, recall de 0.38 y 0.38 respectivamente."
      ]
    }
  ]
}